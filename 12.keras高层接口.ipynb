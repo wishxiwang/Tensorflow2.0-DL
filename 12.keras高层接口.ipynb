{
 "cells": [
  {
   "cell_type": "markdown",
   "metadata": {},
   "source": [
    "# 1.将所有流程用keras高层接口实现"
   ]
  },
  {
   "cell_type": "code",
   "execution_count": 1,
   "metadata": {},
   "outputs": [],
   "source": [
    "import tensorflow as tf\n",
    "from tensorflow import keras"
   ]
  },
  {
   "cell_type": "code",
   "execution_count": 2,
   "metadata": {},
   "outputs": [
    {
     "name": "stdout",
     "output_type": "stream",
     "text": [
      "训练集维度： (60000, 28, 28) (60000,)\n",
      "数据范围: 0 255\n",
      "类别： {0, 1, 2, 3, 4, 5, 6, 7, 8, 9}\n",
      "类别数： 10\n",
      "验证集维度： (10000, 28, 28) (10000,)\n"
     ]
    }
   ],
   "source": [
    "#载入数据\n",
    "(x_train,y_train),(x_val,y_val)=keras.datasets.fashion_mnist.load_data()\n",
    "print('训练集维度：',x_train.shape,y_train.shape)\n",
    "print('数据范围:',x_train.min(),x_train.max())\n",
    "print('类别：',set(y_train))\n",
    "print('类别数：',len(set(y_train)))\n",
    "print('验证集维度：',x_val.shape,y_val.shape)"
   ]
  },
  {
   "cell_type": "code",
   "execution_count": 3,
   "metadata": {},
   "outputs": [],
   "source": [
    "#预处理数据\n",
    "def preprocess(x,y):\n",
    "    x = tf.cast(x,dtype=tf.float32)/255\n",
    "    x = tf.reshape(x,[-1,784])\n",
    "    y = tf.cast(y,dtype=tf.int32)\n",
    "    y = tf.one_hot(y,depth=10)\n",
    "    return x,y"
   ]
  },
  {
   "cell_type": "code",
   "execution_count": 4,
   "metadata": {},
   "outputs": [
    {
     "name": "stdout",
     "output_type": "stream",
     "text": [
      "每次喂入的样本量: (200, 784)\n",
      "每次喂入的标签量: (200, 10)\n"
     ]
    }
   ],
   "source": [
    "#准备每次喂入网络的数据batch\n",
    "#每个batch200组数据，用preprocess处理这些数据，随机打乱（打乱时内存分配空间为10000）\n",
    "db_train = tf.data.Dataset.from_tensor_slices((x_train,y_train)).batch(200).map(preprocess).shuffle(10000)\n",
    "db_val = tf.data.Dataset.from_tensor_slices((x_val,y_val)).batch(200).map(preprocess).shuffle(10000)\n",
    "\n",
    "db_iter = iter(db_train)\n",
    "sample = next(db_iter)\n",
    "print('每次喂入的样本量:',sample[0].shape)\n",
    "print('每次喂入的标签量:',sample[1].shape)"
   ]
  },
  {
   "cell_type": "code",
   "execution_count": 5,
   "metadata": {},
   "outputs": [],
   "source": [
    "#定义网络\n",
    "model= keras.Sequential([\n",
    "    keras.layers.Dense(512,activation=tf.nn.relu),\n",
    "    keras.layers.Dense(256,activation=tf.nn.relu),\n",
    "    keras.layers.Dense(128,activation=tf.nn.relu),\n",
    "    keras.layers.Dense(64,activation=tf.nn.relu),\n",
    "    keras.layers.Dense(10,activation = tf.nn.softmax)\n",
    "])"
   ]
  },
  {
   "cell_type": "code",
   "execution_count": 8,
   "metadata": {},
   "outputs": [],
   "source": [
    "#配置网络\n",
    "#用Adam进行优化，学习率为0.01，损失函数为交叉熵损失，评价准则为精度\n",
    "model.compile(optimizer=tf.optimizers.Adam(learning_rate=0.01),loss=tf.losses.categorical_crossentropy,metrics=['accuracy'])"
   ]
  },
  {
   "cell_type": "code",
   "execution_count": 9,
   "metadata": {},
   "outputs": [
    {
     "name": "stdout",
     "output_type": "stream",
     "text": [
      "Epoch 1/10\n",
      "300/300 [==============================] - 4s 12ms/step - loss: 0.6631 - accuracy: 0.7666 - val_loss: 0.3503 - val_accuracy: 0.8900\n",
      "Epoch 2/10\n",
      "300/300 [==============================] - 3s 8ms/step - loss: 0.4072 - accuracy: 0.8521 - val_loss: 0.3346 - val_accuracy: 0.8925\n",
      "Epoch 3/10\n",
      "300/300 [==============================] - 3s 9ms/step - loss: 0.3700 - accuracy: 0.8650 - val_loss: 0.2980 - val_accuracy: 0.8750\n",
      "Epoch 4/10\n",
      "300/300 [==============================] - 3s 9ms/step - loss: 0.3477 - accuracy: 0.8735 - val_loss: 0.2692 - val_accuracy: 0.9000\n",
      "Epoch 5/10\n",
      "300/300 [==============================] - 3s 9ms/step - loss: 0.3326 - accuracy: 0.8777 - val_loss: 0.2650 - val_accuracy: 0.8900\n",
      "Epoch 6/10\n",
      "300/300 [==============================] - 3s 9ms/step - loss: 0.3203 - accuracy: 0.8828 - val_loss: 0.2875 - val_accuracy: 0.8875\n",
      "Epoch 7/10\n",
      "300/300 [==============================] - 3s 9ms/step - loss: 0.3129 - accuracy: 0.8847 - val_loss: 0.2917 - val_accuracy: 0.8850\n",
      "Epoch 8/10\n",
      "300/300 [==============================] - 3s 9ms/step - loss: 0.3098 - accuracy: 0.8864 - val_loss: 0.2942 - val_accuracy: 0.8925\n",
      "Epoch 9/10\n",
      "300/300 [==============================] - 3s 9ms/step - loss: 0.3123 - accuracy: 0.8857 - val_loss: 0.3023 - val_accuracy: 0.8925\n",
      "Epoch 10/10\n",
      "300/300 [==============================] - 3s 9ms/step - loss: 0.2977 - accuracy: 0.8911 - val_loss: 0.2943 - val_accuracy: 0.8900\n"
     ]
    },
    {
     "data": {
      "text/plain": [
       "<tensorflow.python.keras.callbacks.History at 0x2756d377630>"
      ]
     },
     "execution_count": 9,
     "metadata": {},
     "output_type": "execute_result"
    }
   ],
   "source": [
    "#训练数据\n",
    "#训练集为db_train,训练是个循环，验证集为db_val,每2步验证一次\n",
    "model.fit(db_train,epochs=10,validation_data=db_val,validation_steps=2)"
   ]
  },
  {
   "cell_type": "code",
   "execution_count": 10,
   "metadata": {},
   "outputs": [
    {
     "name": "stdout",
     "output_type": "stream",
     "text": [
      "50/50 [==============================] - 0s 5ms/step - loss: 0.4015 - accuracy: 0.8688\n"
     ]
    },
    {
     "data": {
      "text/plain": [
       "[0.4014942428469658, 0.8688]"
      ]
     },
     "execution_count": 10,
     "metadata": {},
     "output_type": "execute_result"
    }
   ],
   "source": [
    "#预测\n",
    "model.evaluate(db_val)"
   ]
  },
  {
   "cell_type": "code",
   "execution_count": null,
   "metadata": {},
   "outputs": [],
   "source": []
  }
 ],
 "metadata": {
  "kernelspec": {
   "display_name": "Python 3",
   "language": "python",
   "name": "python3"
  },
  "language_info": {
   "codemirror_mode": {
    "name": "ipython",
    "version": 3
   },
   "file_extension": ".py",
   "mimetype": "text/x-python",
   "name": "python",
   "nbconvert_exporter": "python",
   "pygments_lexer": "ipython3",
   "version": "3.7.3"
  }
 },
 "nbformat": 4,
 "nbformat_minor": 2
}
