{
 "cells": [
  {
   "cell_type": "raw",
   "metadata": {},
   "source": [
    "目前为止，我们所构建的网络已经比较庞大，所以cpu明显不够用，从这里开始，主要的计算工作由gpu完成。\n",
    "由于TensorFlow2.0处于测试阶段，使用gpu计算时，容易出现各种错误，我也是尝试了多个版本的才配件相匹配，最终才成功用gpu进行卷积计算。\n",
    "这里主要记录下相关硬件软件版本：\n",
    "TensorFlow2.0--cpu--alpha0\n",
    "TensorFlow2.0--gpu--alpha0\n",
    "NVIDA CUDA -- 10.0\n",
    "cudnn--7.5 for CUDA 10.0\n",
    "GPU NVIDIA 970"
   ]
  },
  {
   "cell_type": "code",
   "execution_count": 19,
   "metadata": {},
   "outputs": [],
   "source": [
    "import tensorflow as tf\n",
    "from tensorflow import keras"
   ]
  },
  {
   "cell_type": "code",
   "execution_count": 20,
   "metadata": {},
   "outputs": [
    {
     "name": "stdout",
     "output_type": "stream",
     "text": [
      "(50000, 32, 32, 3)\n",
      "(50000, 1)\n"
     ]
    }
   ],
   "source": [
    "(x_train,y_train),(x_val,y_val)=keras.datasets.cifar10.load_data()\n",
    "print(x_train.shape)\n",
    "print(y_train.shape)"
   ]
  },
  {
   "cell_type": "code",
   "execution_count": 21,
   "metadata": {},
   "outputs": [],
   "source": [
    "def preprocess(x,y):\n",
    "    x = tf.cast(x,dtype=tf.float64)/255.-0.5\n",
    "    y = tf.cast(y,dtype=tf.int32)\n",
    "    return x,y"
   ]
  },
  {
   "cell_type": "code",
   "execution_count": 22,
   "metadata": {},
   "outputs": [],
   "source": [
    "db_train = tf.data.Dataset.from_tensor_slices((x_train,y_train)).batch(200).map(preprocess).shuffle(10000)\n",
    "db_val = tf.data.Dataset.from_tensor_slices((x_val,y_val)).batch(200).map(preprocess).shuffle(10000)"
   ]
  },
  {
   "cell_type": "code",
   "execution_count": 23,
   "metadata": {},
   "outputs": [],
   "source": [
    "model = keras.Sequential([\n",
    "    #64个卷积核，卷积核的尺寸为3*3，填充方式采用\"same\",激活函数为relu\n",
    "    keras.layers.Conv2D(64,kernel_size=[3,3],padding='same',activation=tf.nn.relu),\n",
    "    keras.layers.Conv2D(64,kernel_size=[3,3],padding='same',activation=tf.nn.relu),\n",
    "    #池化区大小为2*2，移动步长为2,填充方式为\"same\"\n",
    "    keras.layers.MaxPool2D(pool_size=[2,2],strides=2,padding='same'),\n",
    "    \n",
    "    keras.layers.Conv2D(64,kernel_size=[3,3],padding='same',activation=tf.nn.relu),\n",
    "    keras.layers.Conv2D(64,kernel_size=[3,3],padding='same',activation=tf.nn.relu),\n",
    "    keras.layers.MaxPool2D(pool_size=[2,2],strides=2,padding='same'),\n",
    "    \n",
    "    keras.layers.Conv2D(128,kernel_size=[3,3],padding='same',activation=tf.nn.relu),\n",
    "    keras.layers.Conv2D(128,kernel_size=[3,3],padding='same',activation=tf.nn.relu),\n",
    "    keras.layers.MaxPool2D(pool_size=[2,2],strides=2,padding='same'),\n",
    "    \n",
    "    keras.layers.Conv2D(256,kernel_size=[3,3],padding='same',activation=tf.nn.relu),\n",
    "    keras.layers.Conv2D(256,kernel_size=[3,3],padding='same',activation=tf.nn.relu),\n",
    "    keras.layers.MaxPool2D(pool_size=[2,2],strides=2,padding='same'),\n",
    "    \n",
    "    keras.layers.Conv2D(512,kernel_size=[3,3],padding='same',activation=tf.nn.relu),\n",
    "    keras.layers.Conv2D(512,kernel_size=[3,3],padding='same',activation=tf.nn.relu),\n",
    "    keras.layers.MaxPool2D(pool_size=[2,2],strides=2,padding='same'),\n",
    "    \n",
    "    keras.layers.Flatten(),\n",
    "    keras.layers.Dense(256,activation=tf.nn.relu),\n",
    "    keras.layers.Dense(128,activation=tf.nn.relu),\n",
    "    keras.layers.Dense(10,activation=tf.nn.softmax)\n",
    "])"
   ]
  },
  {
   "cell_type": "code",
   "execution_count": 24,
   "metadata": {},
   "outputs": [
    {
     "name": "stdout",
     "output_type": "stream",
     "text": [
      "Epoch 1/50\n",
      "250/250 [==============================] - 25s 101ms/step - loss: 2.3022 - accuracy: 0.1172\n",
      "Epoch 2/50\n",
      "250/250 [==============================] - 29s 115ms/step - loss: 2.3015 - accuracy: 0.1537 - val_loss: 2.3009 - val_accuracy: 0.2238\n",
      "Epoch 3/50\n",
      "250/250 [==============================] - 28s 113ms/step - loss: 2.3003 - accuracy: 0.1811\n",
      "Epoch 4/50\n",
      "250/250 [==============================] - 31s 122ms/step - loss: 2.2980 - accuracy: 0.1928 - val_loss: 2.2957 - val_accuracy: 0.2157\n",
      "Epoch 5/50\n",
      "250/250 [==============================] - 29s 115ms/step - loss: 2.2912 - accuracy: 0.2031\n",
      "Epoch 6/50\n",
      "250/250 [==============================] - 31s 123ms/step - loss: 2.2607 - accuracy: 0.2015 - val_loss: 2.2130 - val_accuracy: 0.1944\n",
      "Epoch 7/50\n",
      "250/250 [==============================] - 30s 119ms/step - loss: 2.1157 - accuracy: 0.1991\n",
      "Epoch 8/50\n",
      "250/250 [==============================] - 32s 128ms/step - loss: 2.0331 - accuracy: 0.2310 - val_loss: 2.0536 - val_accuracy: 0.2444\n",
      "Epoch 9/50\n",
      "250/250 [==============================] - 30s 119ms/step - loss: 1.9851 - accuracy: 0.2534\n",
      "Epoch 10/50\n",
      "250/250 [==============================] - 33s 132ms/step - loss: 1.9423 - accuracy: 0.2705 - val_loss: 1.9734 - val_accuracy: 0.2773\n",
      "Epoch 11/50\n",
      "250/250 [==============================] - 34s 137ms/step - loss: 1.8896 - accuracy: 0.2931\n",
      "Epoch 12/50\n",
      "250/250 [==============================] - 37s 146ms/step - loss: 1.8370 - accuracy: 0.3138 - val_loss: 1.7598 - val_accuracy: 0.3583\n",
      "Epoch 13/50\n",
      "250/250 [==============================] - 34s 137ms/step - loss: 1.7854 - accuracy: 0.3337\n",
      "Epoch 14/50\n",
      "250/250 [==============================] - 36s 146ms/step - loss: 1.7374 - accuracy: 0.3503 - val_loss: 1.6722 - val_accuracy: 0.3759\n",
      "Epoch 15/50\n",
      "250/250 [==============================] - 34s 137ms/step - loss: 1.6866 - accuracy: 0.3711\n",
      "Epoch 16/50\n",
      "250/250 [==============================] - 37s 146ms/step - loss: 1.6442 - accuracy: 0.3883 - val_loss: 1.6468 - val_accuracy: 0.3918\n",
      "Epoch 17/50\n",
      "250/250 [==============================] - 34s 137ms/step - loss: 1.6083 - accuracy: 0.4021\n",
      "Epoch 18/50\n",
      "250/250 [==============================] - 37s 146ms/step - loss: 1.5761 - accuracy: 0.4153 - val_loss: 1.5730 - val_accuracy: 0.4179\n",
      "Epoch 19/50\n",
      "250/250 [==============================] - 34s 137ms/step - loss: 1.5449 - accuracy: 0.4281\n",
      "Epoch 20/50\n",
      "250/250 [==============================] - 37s 146ms/step - loss: 1.5143 - accuracy: 0.4419 - val_loss: 1.5010 - val_accuracy: 0.4393\n",
      "Epoch 21/50\n",
      "250/250 [==============================] - 34s 137ms/step - loss: 1.4851 - accuracy: 0.4553\n",
      "Epoch 22/50\n",
      "250/250 [==============================] - 37s 146ms/step - loss: 1.4564 - accuracy: 0.4685 - val_loss: 1.4356 - val_accuracy: 0.4685\n",
      "Epoch 23/50\n",
      "250/250 [==============================] - 33s 134ms/step - loss: 1.4265 - accuracy: 0.4816\n",
      "Epoch 24/50\n",
      "250/250 [==============================] - 36s 143ms/step - loss: 1.3989 - accuracy: 0.4909 - val_loss: 1.3762 - val_accuracy: 0.4959\n",
      "Epoch 25/50\n",
      "250/250 [==============================] - 33s 134ms/step - loss: 1.3725 - accuracy: 0.4988\n",
      "Epoch 26/50\n",
      "250/250 [==============================] - 36s 143ms/step - loss: 1.3454 - accuracy: 0.5094 - val_loss: 1.3334 - val_accuracy: 0.5107\n",
      "Epoch 27/50\n",
      "250/250 [==============================] - 33s 134ms/step - loss: 1.3165 - accuracy: 0.5218\n",
      "Epoch 28/50\n",
      "250/250 [==============================] - 36s 143ms/step - loss: 1.2880 - accuracy: 0.5338 - val_loss: 1.2878 - val_accuracy: 0.5278\n",
      "Epoch 29/50\n",
      "250/250 [==============================] - 33s 134ms/step - loss: 1.2574 - accuracy: 0.5486\n",
      "Epoch 30/50\n",
      "250/250 [==============================] - 36s 143ms/step - loss: 1.2284 - accuracy: 0.5592 - val_loss: 1.2484 - val_accuracy: 0.5458\n",
      "Epoch 31/50\n",
      "250/250 [==============================] - 33s 134ms/step - loss: 1.1990 - accuracy: 0.5722\n",
      "Epoch 32/50\n",
      "250/250 [==============================] - 36s 143ms/step - loss: 1.1669 - accuracy: 0.5820 - val_loss: 1.2039 - val_accuracy: 0.5621\n",
      "Epoch 33/50\n",
      "250/250 [==============================] - 33s 134ms/step - loss: 1.1398 - accuracy: 0.5927\n",
      "Epoch 34/50\n",
      "250/250 [==============================] - 36s 143ms/step - loss: 1.1084 - accuracy: 0.6049 - val_loss: 1.1599 - val_accuracy: 0.5793\n",
      "Epoch 35/50\n",
      "250/250 [==============================] - 33s 134ms/step - loss: 1.0796 - accuracy: 0.6162\n",
      "Epoch 36/50\n",
      "250/250 [==============================] - 36s 143ms/step - loss: 1.0526 - accuracy: 0.6256 - val_loss: 1.1230 - val_accuracy: 0.5954\n",
      "Epoch 37/50\n",
      "250/250 [==============================] - 34s 134ms/step - loss: 1.0233 - accuracy: 0.6371\n",
      "Epoch 38/50\n",
      "250/250 [==============================] - 36s 143ms/step - loss: 0.9999 - accuracy: 0.6474 - val_loss: 1.0735 - val_accuracy: 0.6133\n",
      "Epoch 39/50\n",
      "250/250 [==============================] - 34s 134ms/step - loss: 0.9698 - accuracy: 0.6565\n",
      "Epoch 40/50\n",
      "250/250 [==============================] - 36s 143ms/step - loss: 0.9494 - accuracy: 0.6651 - val_loss: 1.0686 - val_accuracy: 0.6160\n",
      "Epoch 41/50\n",
      "250/250 [==============================] - 34s 134ms/step - loss: 0.9169 - accuracy: 0.6768\n",
      "Epoch 42/50\n",
      "250/250 [==============================] - 36s 143ms/step - loss: 0.8877 - accuracy: 0.6864 - val_loss: 1.0275 - val_accuracy: 0.6342\n",
      "Epoch 43/50\n",
      "250/250 [==============================] - 33s 134ms/step - loss: 0.8644 - accuracy: 0.6962\n",
      "Epoch 44/50\n",
      "250/250 [==============================] - 36s 143ms/step - loss: 0.8388 - accuracy: 0.7045 - val_loss: 1.0126 - val_accuracy: 0.6483\n",
      "Epoch 45/50\n",
      "250/250 [==============================] - 34s 134ms/step - loss: 0.8096 - accuracy: 0.7119\n",
      "Epoch 46/50\n",
      "250/250 [==============================] - 36s 143ms/step - loss: 0.7817 - accuracy: 0.7284 - val_loss: 1.0432 - val_accuracy: 0.6375\n",
      "Epoch 47/50\n",
      "250/250 [==============================] - 33s 134ms/step - loss: 0.7589 - accuracy: 0.7345\n",
      "Epoch 48/50\n",
      "250/250 [==============================] - 36s 143ms/step - loss: 0.7255 - accuracy: 0.7462 - val_loss: 0.9977 - val_accuracy: 0.6629\n",
      "Epoch 49/50\n",
      "250/250 [==============================] - 33s 134ms/step - loss: 0.7009 - accuracy: 0.7567\n",
      "Epoch 50/50\n",
      "250/250 [==============================] - 36s 143ms/step - loss: 0.6678 - accuracy: 0.7675 - val_loss: 1.1948 - val_accuracy: 0.6215\n"
     ]
    },
    {
     "data": {
      "text/plain": [
       "<tensorflow.python.keras.callbacks.History at 0x26a0b10b4a8>"
      ]
     },
     "execution_count": 24,
     "metadata": {},
     "output_type": "execute_result"
    }
   ],
   "source": [
    "model.compile(optimizer=tf.optimizers.SGD(learning_rate=0.01),loss=tf.losses.sparse_categorical_crossentropy,metrics=['accuracy'])\n",
    "model.fit(db_train,epochs=50,validation_data=db_val,validation_freq=2)"
   ]
  },
  {
   "cell_type": "code",
   "execution_count": 25,
   "metadata": {},
   "outputs": [
    {
     "name": "stdout",
     "output_type": "stream",
     "text": [
      "50/50 [==============================] - 2s 35ms/step - loss: 1.1948 - accuracy: 0.6215\n"
     ]
    },
    {
     "data": {
      "text/plain": [
       "[1.1948362958431245, 0.6215]"
      ]
     },
     "execution_count": 25,
     "metadata": {},
     "output_type": "execute_result"
    }
   ],
   "source": [
    "model.evaluate(db_val)"
   ]
  },
  {
   "cell_type": "raw",
   "metadata": {},
   "source": [
    "训练集上的准确度达到了0.76，测试集只有0.62，很明显发生了过拟合"
   ]
  }
 ],
 "metadata": {
  "kernelspec": {
   "display_name": "Python 3",
   "language": "python",
   "name": "python3"
  },
  "language_info": {
   "codemirror_mode": {
    "name": "ipython",
    "version": 3
   },
   "file_extension": ".py",
   "mimetype": "text/x-python",
   "name": "python",
   "nbconvert_exporter": "python",
   "pygments_lexer": "ipython3",
   "version": "3.7.3"
  }
 },
 "nbformat": 4,
 "nbformat_minor": 2
}
