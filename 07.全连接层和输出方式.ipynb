{
 "cells": [
  {
   "cell_type": "code",
   "execution_count": 1,
   "metadata": {},
   "outputs": [],
   "source": [
    "import tensorflow as tf\n",
    "from tensorflow import keras"
   ]
  },
  {
   "cell_type": "markdown",
   "metadata": {},
   "source": [
    "# 1.参数会在build以后自动生成"
   ]
  },
  {
   "cell_type": "code",
   "execution_count": 2,
   "metadata": {},
   "outputs": [],
   "source": [
    "net = keras.layers.Dense(10)"
   ]
  },
  {
   "cell_type": "code",
   "execution_count": 3,
   "metadata": {},
   "outputs": [
    {
     "ename": "AttributeError",
     "evalue": "'Dense' object has no attribute 'kernel'",
     "output_type": "error",
     "traceback": [
      "\u001b[1;31m---------------------------------------------------------------------------\u001b[0m",
      "\u001b[1;31mAttributeError\u001b[0m                            Traceback (most recent call last)",
      "\u001b[1;32m<ipython-input-3-742f88a8e6dd>\u001b[0m in \u001b[0;36m<module>\u001b[1;34m\u001b[0m\n\u001b[1;32m----> 1\u001b[1;33m \u001b[0mprint\u001b[0m\u001b[1;33m(\u001b[0m\u001b[0mnet\u001b[0m\u001b[1;33m.\u001b[0m\u001b[0mkernel\u001b[0m\u001b[1;33m)\u001b[0m\u001b[1;33m\u001b[0m\u001b[1;33m\u001b[0m\u001b[0m\n\u001b[0m\u001b[0;32m      2\u001b[0m \u001b[0mprint\u001b[0m\u001b[1;33m(\u001b[0m\u001b[0mnet\u001b[0m\u001b[1;33m.\u001b[0m\u001b[0mbias\u001b[0m\u001b[1;33m)\u001b[0m\u001b[1;33m\u001b[0m\u001b[1;33m\u001b[0m\u001b[0m\n",
      "\u001b[1;31mAttributeError\u001b[0m: 'Dense' object has no attribute 'kernel'"
     ]
    }
   ],
   "source": [
    "print(net.kernel)\n",
    "print(net.bias)"
   ]
  },
  {
   "cell_type": "code",
   "execution_count": 4,
   "metadata": {},
   "outputs": [
    {
     "name": "stdout",
     "output_type": "stream",
     "text": [
      "(20, 10)\n",
      "(10,)\n",
      "\n"
     ]
    }
   ],
   "source": [
    "net.build(input_shape=(None,20))\n",
    "print(net.kernel.shape)\n",
    "print(net.bias.shape)\n",
    "print()"
   ]
  },
  {
   "cell_type": "code",
   "execution_count": 5,
   "metadata": {},
   "outputs": [
    {
     "name": "stdout",
     "output_type": "stream",
     "text": [
      "(10, 10)\n",
      "(20, 10)\n"
     ]
    }
   ],
   "source": [
    "out = net(tf.random.normal([10,20]))\n",
    "print(out.shape)\n",
    "print(net.kernel.shape)"
   ]
  },
  {
   "cell_type": "markdown",
   "metadata": {},
   "source": [
    "# 2.多层网络使用keras.Sequential堆叠\n"
   ]
  },
  {
   "cell_type": "code",
   "execution_count": 6,
   "metadata": {},
   "outputs": [
    {
     "name": "stdout",
     "output_type": "stream",
     "text": [
      "Model: \"sequential\"\n",
      "_________________________________________________________________\n",
      "Layer (type)                 Output Shape              Param #   \n",
      "=================================================================\n",
      "dense_1 (Dense)              multiple                  620       \n",
      "_________________________________________________________________\n",
      "dense_2 (Dense)              multiple                  210       \n",
      "_________________________________________________________________\n",
      "dense_3 (Dense)              multiple                  22        \n",
      "=================================================================\n",
      "Total params: 852\n",
      "Trainable params: 852\n",
      "Non-trainable params: 0\n",
      "_________________________________________________________________\n",
      "dense_1/kernel:0 (30, 20)\n",
      "dense_1/bias:0 (20,)\n",
      "dense_2/kernel:0 (20, 10)\n",
      "dense_2/bias:0 (10,)\n",
      "dense_3/kernel:0 (10, 2)\n",
      "dense_3/bias:0 (2,)\n"
     ]
    }
   ],
   "source": [
    "x = tf.random.normal([4,30])\n",
    "model = keras.Sequential([\n",
    "    keras.layers.Dense(20,activation=tf.nn.relu),\n",
    "    keras.layers.Dense(10,activation=tf.nn.relu),\n",
    "    keras.layers.Dense(2,activation=tf.nn.relu)\n",
    "])\n",
    "\n",
    "model.build(input_shape=[4,30])\n",
    "model.summary()\n",
    "\n",
    "for p in model.trainable_variables:\n",
    "    print(p.name,p.shape)"
   ]
  },
  {
   "cell_type": "markdown",
   "metadata": {},
   "source": [
    "# 2.输出为二分类tf.nn.sigmoid"
   ]
  },
  {
   "cell_type": "code",
   "execution_count": 7,
   "metadata": {},
   "outputs": [
    {
     "name": "stdout",
     "output_type": "stream",
     "text": [
      "tf.Tensor(-5.0, shape=(), dtype=float32)\n",
      "tf.Tensor(5.0, shape=(), dtype=float32)\n",
      "tf.Tensor(\n",
      "[-5.         -3.8888888  -2.7777777  -1.6666665  -0.55555534  0.5555558\n",
      "  1.666667    2.7777781   3.8888893   5.        ], shape=(10,), dtype=float32)\n",
      "tf.Tensor(0.006692916, shape=(), dtype=float32)\n",
      "tf.Tensor(0.9933072, shape=(), dtype=float32)\n",
      "tf.Tensor(\n",
      "[0.00669292 0.02005756 0.05853692 0.15886912 0.36457652 0.6354236\n",
      " 0.841131   0.9414632  0.97994244 0.9933072 ], shape=(10,), dtype=float32)\n"
     ]
    }
   ],
   "source": [
    "#sigmoid将输出限制在0-1\n",
    "a = tf.linspace(-5.,5.,10)\n",
    "print(tf.reduce_min(a))\n",
    "print(tf.reduce_max(a))\n",
    "print(a)\n",
    "out = tf.nn.sigmoid(a)\n",
    "print(tf.reduce_min(out))\n",
    "print(tf.reduce_max(out))\n",
    "print(out)"
   ]
  },
  {
   "cell_type": "markdown",
   "metadata": {},
   "source": [
    "# 3.输出为多分类tf.nn.softmax"
   ]
  },
  {
   "cell_type": "code",
   "execution_count": 10,
   "metadata": {},
   "outputs": [
    {
     "name": "stdout",
     "output_type": "stream",
     "text": [
      "tf.Tensor(-5.0, shape=(), dtype=float32)\n",
      "tf.Tensor(5.0, shape=(), dtype=float32)\n",
      "tf.Tensor(\n",
      "[-5.         -3.8888888  -2.7777777  -1.6666665  -0.55555534  0.5555558\n",
      "  1.666667    2.7777781   3.8888893   5.        ], shape=(10,), dtype=float32)\n",
      "tf.Tensor(3.0455045e-05, shape=(), dtype=float32)\n",
      "tf.Tensor(0.67081696, shape=(), dtype=float32)\n",
      "tf.Tensor(\n",
      "[3.0455045e-05 9.2514216e-05 2.8103351e-04 8.5370452e-04 2.5933255e-03\n",
      " 7.8778276e-03 2.3930727e-02 7.2695136e-02 2.2082834e-01 6.7081696e-01], shape=(10,), dtype=float32)\n"
     ]
    }
   ],
   "source": [
    "a = tf.linspace(-5.,5.,10)\n",
    "print(tf.reduce_min(a))\n",
    "print(tf.reduce_max(a))\n",
    "print(a)\n",
    "out = tf.nn.softmax(a)#输出映射到0-1\n",
    "print(tf.reduce_min(out))\n",
    "print(tf.reduce_max(out))\n",
    "print(out)"
   ]
  },
  {
   "cell_type": "markdown",
   "metadata": {},
   "source": [
    "# 4.tf.nn.tanh"
   ]
  },
  {
   "cell_type": "code",
   "execution_count": 11,
   "metadata": {},
   "outputs": [
    {
     "name": "stdout",
     "output_type": "stream",
     "text": [
      "tf.Tensor(-5.0, shape=(), dtype=float32)\n",
      "tf.Tensor(5.0, shape=(), dtype=float32)\n",
      "tf.Tensor(\n",
      "[-5.         -3.8888888  -2.7777777  -1.6666665  -0.55555534  0.5555558\n",
      "  1.666667    2.7777781   3.8888893   5.        ], shape=(10,), dtype=float32)\n",
      "tf.Tensor(-0.9999092, shape=(), dtype=float32)\n",
      "tf.Tensor(0.9999092, shape=(), dtype=float32)\n",
      "tf.Tensor(\n",
      "[-0.9999092  -0.9991625  -0.99229795 -0.9311096  -0.50467217  0.5046725\n",
      "  0.93110967  0.99229795  0.9991625   0.9999092 ], shape=(10,), dtype=float32)\n"
     ]
    }
   ],
   "source": [
    "a = tf.linspace(-5.,5.,10)\n",
    "print(tf.reduce_min(a))\n",
    "print(tf.reduce_max(a))\n",
    "print(a)\n",
    "out = tf.nn.tanh(a)#输出映射到-1-1\n",
    "print(tf.reduce_min(out))\n",
    "print(tf.reduce_max(out))\n",
    "print(out)"
   ]
  },
  {
   "cell_type": "code",
   "execution_count": null,
   "metadata": {},
   "outputs": [],
   "source": []
  }
 ],
 "metadata": {
  "kernelspec": {
   "display_name": "Python 3",
   "language": "python",
   "name": "python3"
  },
  "language_info": {
   "codemirror_mode": {
    "name": "ipython",
    "version": 3
   },
   "file_extension": ".py",
   "mimetype": "text/x-python",
   "name": "python",
   "nbconvert_exporter": "python",
   "pygments_lexer": "ipython3",
   "version": "3.7.3"
  }
 },
 "nbformat": 4,
 "nbformat_minor": 2
}
