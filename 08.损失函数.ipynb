{
 "cells": [
  {
   "cell_type": "code",
   "execution_count": 1,
   "metadata": {},
   "outputs": [],
   "source": [
    "import tensorflow as tf"
   ]
  },
  {
   "cell_type": "markdown",
   "metadata": {},
   "source": [
    "# 1.均方误差"
   ]
  },
  {
   "cell_type": "code",
   "execution_count": 2,
   "metadata": {},
   "outputs": [
    {
     "name": "stdout",
     "output_type": "stream",
     "text": [
      "tf.Tensor(\n",
      "[[0. 1. 0. 0.]\n",
      " [0. 0. 1. 0.]\n",
      " [0. 0. 0. 0.]\n",
      " [0. 0. 0. 1.]\n",
      " [0. 0. 1. 0.]], shape=(5, 4), dtype=float32)\n",
      "tf.Tensor(1.4060196, shape=(), dtype=float32)\n"
     ]
    }
   ],
   "source": [
    "y = tf.constant([1,2,5,3,2])\n",
    "y_onehot = tf.cast(tf.one_hot(y,depth=4),dtype=tf.float32)\n",
    "out = tf.random.normal([5,4])\n",
    "loss1= tf.reduce_mean(tf.square(y_onehot-out))\n",
    "loss2 = tf.square(tf.norm(y_onehot-out))/20\n",
    "loss3 = tf.reduce_mean(tf.losses.MSE(y_onehot,out))\n",
    "print(y_onehot)\n",
    "print(loss1)"
   ]
  },
  {
   "cell_type": "markdown",
   "metadata": {},
   "source": [
    "# 2.三分类问题"
   ]
  },
  {
   "cell_type": "code",
   "execution_count": 3,
   "metadata": {},
   "outputs": [
    {
     "name": "stdout",
     "output_type": "stream",
     "text": [
      "tf.Tensor(\n",
      "[[-0.0008115  -0.01485371  0.01566521]\n",
      " [-0.00582381 -0.01852505  0.02434886]\n",
      " [-0.16283654  0.0384707   0.12436584]\n",
      " [-0.13042755  0.00676373  0.12366383]], shape=(4, 3), dtype=float32)\n",
      "tf.Tensor([ 0.02572387  0.02123908 -0.04696294], shape=(3,), dtype=float32)\n"
     ]
    }
   ],
   "source": [
    "x = tf.random.normal([2,4])\n",
    "w = tf.random.normal([4,3])\n",
    "b = tf.zeros([3])\n",
    "y = tf.constant([2,0])\n",
    "\n",
    "with tf.GradientTape() as tape:\n",
    "    tape.watch([w,b])\n",
    "    y_pred = tf.nn.softmax(x@w+b,axis=1)\n",
    "    loss = tf.reduce_mean(tf.losses.MSE(tf.one_hot(y,depth=3),y_pred))\n",
    "    \n",
    "grads = tape.gradient(loss,[w,b])\n",
    "print(grads[0])\n",
    "print(grads[1])"
   ]
  },
  {
   "cell_type": "markdown",
   "metadata": {},
   "source": [
    "# 3.熵"
   ]
  },
  {
   "cell_type": "code",
   "execution_count": 8,
   "metadata": {},
   "outputs": [],
   "source": [
    "def entropy(a):\n",
    "    return -tf.reduce_sum(a*tf.math.log(a)/tf.math.log(2.))#将以e为底转换为以2为底"
   ]
  },
  {
   "cell_type": "code",
   "execution_count": 10,
   "metadata": {},
   "outputs": [
    {
     "name": "stdout",
     "output_type": "stream",
     "text": [
      "tf.Tensor(2.0, shape=(), dtype=float32)\n",
      "tf.Tensor(1.3567796, shape=(), dtype=float32)\n",
      "tf.Tensor(0.24194068, shape=(), dtype=float32)\n"
     ]
    }
   ],
   "source": [
    "#熵越大，越混乱\n",
    "a = tf.constant([0.25,0.25,0.25,0.25])\n",
    "a_entropy = entropy(a)\n",
    "print(a_entropy)\n",
    "b = tf.constant([0.1,0.1,0.1,0.7])\n",
    "b_entropy = entropy(b)\n",
    "print(b_entropy)\n",
    "c = tf.constant([0.01,0.01,0.01,0.97])\n",
    "c_entropy = entropy(c)\n",
    "print(c_entropy)"
   ]
  },
  {
   "cell_type": "markdown",
   "metadata": {},
   "source": [
    "# 4.交叉熵"
   ]
  },
  {
   "cell_type": "code",
   "execution_count": 14,
   "metadata": {},
   "outputs": [
    {
     "data": {
      "text/plain": [
       "<tf.Tensor: id=284, shape=(), dtype=float32, numpy=1.3862944>"
      ]
     },
     "execution_count": 14,
     "metadata": {},
     "output_type": "execute_result"
    }
   ],
   "source": [
    "#衡量两个概率分布的距离,两个概率分布越接近，交叉熵越小\n",
    "tf.losses.categorical_crossentropy([0,1,0,0],[0.25,0.25,0.25,0.25])"
   ]
  },
  {
   "cell_type": "code",
   "execution_count": 15,
   "metadata": {},
   "outputs": [
    {
     "data": {
      "text/plain": [
       "<tf.Tensor: id=303, shape=(), dtype=float32, numpy=0.35667497>"
      ]
     },
     "execution_count": 15,
     "metadata": {},
     "output_type": "execute_result"
    }
   ],
   "source": [
    "tf.losses.categorical_crossentropy([0,1,0,0],[0.1,0.7,0.1,0.1])"
   ]
  },
  {
   "cell_type": "code",
   "execution_count": 16,
   "metadata": {},
   "outputs": [
    {
     "data": {
      "text/plain": [
       "<tf.Tensor: id=322, shape=(), dtype=float32, numpy=0.030459179>"
      ]
     },
     "execution_count": 16,
     "metadata": {},
     "output_type": "execute_result"
    }
   ],
   "source": [
    "tf.losses.categorical_crossentropy([0,1,0,0],[0.01,0.97,0.01,0.01])"
   ]
  },
  {
   "cell_type": "code",
   "execution_count": 18,
   "metadata": {},
   "outputs": [
    {
     "name": "stdout",
     "output_type": "stream",
     "text": [
      "tf.Tensor([2.145765e-06], shape=(1,), dtype=float32)\n",
      "tf.Tensor([2.1457695e-06], shape=(1,), dtype=float32)\n"
     ]
    }
   ],
   "source": [
    "x = tf.random.normal([1,784])\n",
    "w = tf.random.normal([784,2])\n",
    "b = tf.zeros(2)\n",
    "out = x@w+b\n",
    "pred = tf.nn.softmax(out,axis=1)\n",
    "print(tf.losses.categorical_crossentropy([0,1],out,from_logits=True))\n",
    "print(tf.losses.categorical_crossentropy([0,1],pred))"
   ]
  },
  {
   "cell_type": "code",
   "execution_count": null,
   "metadata": {},
   "outputs": [],
   "source": []
  }
 ],
 "metadata": {
  "kernelspec": {
   "display_name": "Python 3",
   "language": "python",
   "name": "python3"
  },
  "language_info": {
   "codemirror_mode": {
    "name": "ipython",
    "version": 3
   },
   "file_extension": ".py",
   "mimetype": "text/x-python",
   "name": "python",
   "nbconvert_exporter": "python",
   "pygments_lexer": "ipython3",
   "version": "3.7.3"
  }
 },
 "nbformat": 4,
 "nbformat_minor": 2
}
