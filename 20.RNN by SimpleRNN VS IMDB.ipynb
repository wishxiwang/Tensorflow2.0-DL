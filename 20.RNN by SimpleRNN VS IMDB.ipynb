{
 "cells": [
  {
   "cell_type": "code",
   "execution_count": 1,
   "metadata": {},
   "outputs": [],
   "source": [
    "import tensorflow as tf\n",
    "from tensorflow import keras\n",
    "from tensorflow.keras import layers\n",
    "import numpy as np"
   ]
  },
  {
   "cell_type": "code",
   "execution_count": 2,
   "metadata": {},
   "outputs": [
    {
     "name": "stdout",
     "output_type": "stream",
     "text": [
      "(25000, 80) (25000,) tf.Tensor(1, shape=(), dtype=int64) tf.Tensor(0, shape=(), dtype=int64)\n",
      "(25000, 80) (25000,)\n",
      "(128, 80)\n",
      "(128,)\n"
     ]
    }
   ],
   "source": [
    "totals_words = 10000#只使用最常用的前10000个单词\n",
    "embedding_len = 100#每个单词的维度为100\n",
    "max_review_len = 80#每个句子的长度\n",
    "batch_size = 128\n",
    "(x_train,y_train),(x_val,y_val) = keras.datasets.imdb.load_data(num_words=totals_words)#只使用最常用的10000个单词，其他单词标记为未知\n",
    "x_train = keras.preprocessing.sequence.pad_sequences(x_train,maxlen=max_review_len)#设置每个句子的长度为80\n",
    "x_val = keras.preprocessing.sequence.pad_sequences(x_val,maxlen=max_review_len)\n",
    "db_train = tf.data.Dataset.from_tensor_slices((x_train,y_train)).shuffle(10000).batch(batch_size,drop_remainder=True)\n",
    "db_val = tf.data.Dataset.from_tensor_slices((x_val,y_val)).shuffle(1000).batch(batch_size,drop_remainder=True)#最后一个batch长度不够将其drop\n",
    "\n",
    "db_iter = iter(db_train)\n",
    "sample = next(db_iter)\n",
    "print(x_train.shape,y_train.shape,tf.reduce_max(y_train),tf.reduce_min(y_train))\n",
    "print(x_val.shape,y_val.shape)\n",
    "print(sample[0].shape)\n",
    "print(sample[1].shape)"
   ]
  },
  {
   "cell_type": "code",
   "execution_count": 7,
   "metadata": {},
   "outputs": [],
   "source": [
    "class MyRnn(keras.Model):\n",
    "    def __init__(self,units):\n",
    "        super(MyRnn,self).__init__()\n",
    "        #[b,80]=>[b,80,100]\n",
    "        self.embedding = layers.Embedding(input_dim=totals_words,output_dim=embedding_len,input_length=max_review_len)\n",
    "        \n",
    "        #[b,80]=>[b,units]\n",
    "        self.rnn_cell0 = layers.SimpleRNN(units,return_sequences=True,dropout=0.5,unroll=True)#返回输出序列中的最后一个输出\n",
    "        self.rnn_cell1 = layers.SimpleRNN(units,dropout=0.5,unroll=True)#unroll 是否展开网络\n",
    "        #[b,units]=>[b,1]\n",
    "        self.fc = layers.Dense(1)\n",
    "        \n",
    "    def call(self,inputs,training=None):\n",
    "        #x = [b,80]\n",
    "        x = inputs\n",
    "        #[b,80]=>[b,80,100]\n",
    "        x = self.embedding(x)\n",
    "        #[b,80]=>[b,64]\n",
    "        x = self.rnn_cell0(x)\n",
    "        x = self.rnn_cell1(x)\n",
    "        #[b,64]=>[b,1]\n",
    "        out = self.fc(x)\n",
    "        #p(y is positive|x)\n",
    "        pred = tf.sigmoid(out)\n",
    "        \n",
    "        return pred"
   ]
  },
  {
   "cell_type": "code",
   "execution_count": 8,
   "metadata": {},
   "outputs": [
    {
     "name": "stdout",
     "output_type": "stream",
     "text": [
      "Epoch 1/10\n",
      "195/195 [==============================] - 27s 137ms/step - loss: 0.6938 - accuracy: 0.5219 - val_loss: 0.6073 - val_accuracy: 0.6761\n",
      "Epoch 2/10\n",
      "195/195 [==============================] - 11s 57ms/step - loss: 0.5697 - accuracy: 0.6754 - val_loss: 0.4656 - val_accuracy: 0.7819\n",
      "Epoch 3/10\n",
      "195/195 [==============================] - 11s 57ms/step - loss: 0.4654 - accuracy: 0.7722 - val_loss: 0.4204 - val_accuracy: 0.8103\n",
      "Epoch 4/10\n",
      "195/195 [==============================] - 11s 57ms/step - loss: 0.4054 - accuracy: 0.8144 - val_loss: 0.4106 - val_accuracy: 0.8218\n",
      "Epoch 5/10\n",
      "195/195 [==============================] - 11s 57ms/step - loss: 0.3675 - accuracy: 0.8394 - val_loss: 0.4148 - val_accuracy: 0.8242\n",
      "Epoch 6/10\n",
      "195/195 [==============================] - 11s 56ms/step - loss: 0.3408 - accuracy: 0.8508 - val_loss: 0.4364 - val_accuracy: 0.8244\n",
      "Epoch 7/10\n",
      "195/195 [==============================] - 11s 55ms/step - loss: 0.3163 - accuracy: 0.8672 - val_loss: 0.4204 - val_accuracy: 0.8315\n",
      "Epoch 8/10\n",
      "195/195 [==============================] - 11s 55ms/step - loss: 0.2984 - accuracy: 0.8780 - val_loss: 0.4131 - val_accuracy: 0.8327\n",
      "Epoch 9/10\n",
      "195/195 [==============================] - 11s 55ms/step - loss: 0.2869 - accuracy: 0.8819 - val_loss: 0.4148 - val_accuracy: 0.8343\n",
      "Epoch 10/10\n",
      "195/195 [==============================] - 11s 54ms/step - loss: 0.2649 - accuracy: 0.8937 - val_loss: 0.4551 - val_accuracy: 0.8312\n"
     ]
    }
   ],
   "source": [
    "def main():\n",
    "    units = 64\n",
    "    model = MyRnn(units)\n",
    "    model.compile(optimizer=keras.optimizers.Adam(0.0001),loss=tf.losses.BinaryCrossentropy(),metrics=['accuracy'])\n",
    "    model.fit(db_train,epochs=10,validation_data=db_val)\n",
    "main()"
   ]
  },
  {
   "cell_type": "code",
   "execution_count": null,
   "metadata": {},
   "outputs": [],
   "source": []
  }
 ],
 "metadata": {
  "kernelspec": {
   "display_name": "Python 3",
   "language": "python",
   "name": "python3"
  },
  "language_info": {
   "codemirror_mode": {
    "name": "ipython",
    "version": 3
   },
   "file_extension": ".py",
   "mimetype": "text/x-python",
   "name": "python",
   "nbconvert_exporter": "python",
   "pygments_lexer": "ipython3",
   "version": "3.7.3"
  }
 },
 "nbformat": 4,
 "nbformat_minor": 2
}
