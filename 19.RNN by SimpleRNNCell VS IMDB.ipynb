{
 "cells": [
  {
   "cell_type": "code",
   "execution_count": 15,
   "metadata": {},
   "outputs": [],
   "source": [
    "import tensorflow as tf\n",
    "from tensorflow import keras\n",
    "from tensorflow.keras import layers\n",
    "import numpy as np"
   ]
  },
  {
   "cell_type": "code",
   "execution_count": 16,
   "metadata": {},
   "outputs": [],
   "source": [
    "#设置随机种子\n",
    "tf.random.set_seed(22)\n",
    "np.random.seed(22)"
   ]
  },
  {
   "cell_type": "code",
   "execution_count": 52,
   "metadata": {},
   "outputs": [
    {
     "name": "stdout",
     "output_type": "stream",
     "text": [
      "(25000, 80) (25000,) tf.Tensor(1, shape=(), dtype=int64) tf.Tensor(0, shape=(), dtype=int64)\n",
      "(25000, 80) (25000,)\n",
      "(128, 80)\n",
      "(128,)\n"
     ]
    }
   ],
   "source": [
    "totals_words = 10000#只使用最常用的前10000个单词\n",
    "embedding_len = 100#每个单词的维度为100\n",
    "max_review_len = 80#每个句子的长度\n",
    "batch_size = 128\n",
    "(x_train,y_train),(x_val,y_val) = keras.datasets.imdb.load_data(num_words=totals_words)#只使用最常用的10000个单词，其他单词标记为未知\n",
    "x_train = keras.preprocessing.sequence.pad_sequences(x_train,maxlen=max_review_len)#设置每个句子的长度为80\n",
    "x_val = keras.preprocessing.sequence.pad_sequences(x_val,maxlen=max_review_len)\n",
    "db_train = tf.data.Dataset.from_tensor_slices((x_train,y_train)).shuffle(10000).batch(batch_size,drop_remainder=True)\n",
    "db_val = tf.data.Dataset.from_tensor_slices((x_val,y_val)).shuffle(1000).batch(batch_size,drop_remainder=True)#最后一个batch长度不够将其drop\n",
    "\n",
    "db_iter = iter(db_train)\n",
    "sample = next(db_iter)\n",
    "print(x_train.shape,y_train.shape,tf.reduce_max(y_train),tf.reduce_min(y_train))\n",
    "print(x_val.shape,y_val.shape)\n",
    "print(sample[0].shape)\n",
    "print(sample[1].shape)"
   ]
  },
  {
   "cell_type": "code",
   "execution_count": 56,
   "metadata": {},
   "outputs": [],
   "source": [
    "class MyRnn(keras.Model):\n",
    "    def __init__(self,units):\n",
    "        super(MyRnn,self).__init__()\n",
    "        #[b,64]\n",
    "        self.state0 = [tf.zeros([batch_size,units])]\n",
    "        self.state1 = [tf.zeros([batch_size,units])]\n",
    "        #[b,80]=>[b,80,100]\n",
    "        self.embedding = layers.Embedding(input_dim=totals_words,output_dim=embedding_len,input_length=max_review_len)\n",
    "        \n",
    "        #[b,80]=>[b,units]\n",
    "        self.rnn_cell0 = layers.SimpleRNNCell(units,dropout=0.2)\n",
    "        self.rnn_cell1 = layers.SimpleRNNCell(units,dropout=0.2)\n",
    "        #[b,units]=>[b,1]\n",
    "        self.fc = layers.Dense(1)\n",
    "        \n",
    "    def call(self,inputs,training=None):\n",
    "        #x = [b,80]\n",
    "        x = inputs\n",
    "        #[b,80]=>[b,80,100]\n",
    "        x = self.embedding(x)\n",
    "        #[b,80,100]=>[b,100]\n",
    "        state0 = self.state0\n",
    "        state1 = self.state1\n",
    "        #[b,80]=>[b,64]\n",
    "        #80轮过后，out为[b,64]，收集了前80个语境的所有信息\n",
    "        for word in tf.unstack(x,axis=1):\n",
    "            out0,state0 = self.rnn_cell0(word,state0,training)\n",
    "            out1,state1 = self.rnn_cell1(out0,state1,training)\n",
    "        #[b,64]=>[b,1]\n",
    "        out = self.fc(out1)\n",
    "        #p(y is positive|x)\n",
    "        pred = tf.sigmoid(out)\n",
    "        \n",
    "        return pred"
   ]
  },
  {
   "cell_type": "code",
   "execution_count": 61,
   "metadata": {
    "scrolled": true
   },
   "outputs": [],
   "source": [
    "def main():\n",
    "    units = 64\n",
    "    model = MyRnn(units)\n",
    "    model.compile(optimizer=keras.optimizers.Adam(0.0001),loss=tf.losses.BinaryCrossentropy(),metrics=['accuracy'])\n",
    "    model.fit(db_train,epochs=10,validation_data=db_val)"
   ]
  },
  {
   "cell_type": "code",
   "execution_count": 62,
   "metadata": {
    "scrolled": true
   },
   "outputs": [
    {
     "name": "stdout",
     "output_type": "stream",
     "text": [
      "Epoch 1/10\n",
      "195/195 [==============================] - 23s 119ms/step - loss: 0.7005 - accuracy: 0.5089 - val_loss: 0.6911 - val_accuracy: 0.5260\n",
      "Epoch 2/10\n",
      "195/195 [==============================] - 11s 57ms/step - loss: 0.6355 - accuracy: 0.5735 - val_loss: 0.5052 - val_accuracy: 0.7549\n",
      "Epoch 3/10\n",
      "195/195 [==============================] - 11s 56ms/step - loss: 0.4325 - accuracy: 0.7849 - val_loss: 0.4078 - val_accuracy: 0.8167\n",
      "Epoch 4/10\n",
      "195/195 [==============================] - 11s 56ms/step - loss: 0.3428 - accuracy: 0.8481 - val_loss: 0.4189 - val_accuracy: 0.8233\n",
      "Epoch 5/10\n",
      "195/195 [==============================] - 11s 58ms/step - loss: 0.2940 - accuracy: 0.8771 - val_loss: 0.4238 - val_accuracy: 0.8233\n",
      "Epoch 6/10\n",
      "195/195 [==============================] - 11s 55ms/step - loss: 0.2547 - accuracy: 0.8932 - val_loss: 0.4125 - val_accuracy: 0.8279\n",
      "Epoch 7/10\n",
      "195/195 [==============================] - 11s 55ms/step - loss: 0.2232 - accuracy: 0.9123 - val_loss: 0.4307 - val_accuracy: 0.8286\n",
      "Epoch 8/10\n",
      "195/195 [==============================] - 11s 55ms/step - loss: 0.1968 - accuracy: 0.9241 - val_loss: 0.4655 - val_accuracy: 0.8202\n",
      "Epoch 9/10\n",
      "195/195 [==============================] - 11s 55ms/step - loss: 0.1663 - accuracy: 0.9363 - val_loss: 0.5011 - val_accuracy: 0.8155\n",
      "Epoch 10/10\n",
      "195/195 [==============================] - 11s 56ms/step - loss: 0.1389 - accuracy: 0.9520 - val_loss: 0.5165 - val_accuracy: 0.8148\n"
     ]
    }
   ],
   "source": [
    "main()"
   ]
  },
  {
   "cell_type": "code",
   "execution_count": null,
   "metadata": {},
   "outputs": [],
   "source": []
  }
 ],
 "metadata": {
  "kernelspec": {
   "display_name": "Python 3",
   "language": "python",
   "name": "python3"
  },
  "language_info": {
   "codemirror_mode": {
    "name": "ipython",
    "version": 3
   },
   "file_extension": ".py",
   "mimetype": "text/x-python",
   "name": "python",
   "nbconvert_exporter": "python",
   "pygments_lexer": "ipython3",
   "version": "3.7.3"
  }
 },
 "nbformat": 4,
 "nbformat_minor": 2
}
