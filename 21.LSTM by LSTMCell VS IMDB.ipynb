{
 "cells": [
  {
   "cell_type": "code",
   "execution_count": 1,
   "metadata": {},
   "outputs": [],
   "source": [
    "import tensorflow as tf\n",
    "from tensorflow import keras\n",
    "from tensorflow.keras import layers\n",
    "import numpy as np"
   ]
  },
  {
   "cell_type": "code",
   "execution_count": 2,
   "metadata": {},
   "outputs": [],
   "source": [
    "#设置随机种子\n",
    "tf.random.set_seed(22)\n",
    "np.random.seed(22)"
   ]
  },
  {
   "cell_type": "code",
   "execution_count": 3,
   "metadata": {},
   "outputs": [
    {
     "name": "stdout",
     "output_type": "stream",
     "text": [
      "(25000, 80) (25000,) tf.Tensor(1, shape=(), dtype=int64) tf.Tensor(0, shape=(), dtype=int64)\n",
      "(25000, 80) (25000,)\n",
      "(128, 80)\n",
      "(128,)\n"
     ]
    }
   ],
   "source": [
    "totals_words = 10000#只使用最常用的前10000个单词\n",
    "embedding_len = 100#每个单词的维度为100\n",
    "max_review_len = 80#每个句子的长度\n",
    "batch_size = 128\n",
    "(x_train,y_train),(x_val,y_val) = keras.datasets.imdb.load_data(num_words=totals_words)#只使用最常用的10000个单词，其他单词标记为未知\n",
    "x_train = keras.preprocessing.sequence.pad_sequences(x_train,maxlen=max_review_len)#设置每个句子的长度为80\n",
    "x_val = keras.preprocessing.sequence.pad_sequences(x_val,maxlen=max_review_len)\n",
    "db_train = tf.data.Dataset.from_tensor_slices((x_train,y_train)).shuffle(10000).batch(batch_size,drop_remainder=True)\n",
    "db_val = tf.data.Dataset.from_tensor_slices((x_val,y_val)).shuffle(1000).batch(batch_size,drop_remainder=True)#最后一个batch长度不够将其drop\n",
    "\n",
    "db_iter = iter(db_train)\n",
    "sample = next(db_iter)\n",
    "print(x_train.shape,y_train.shape,tf.reduce_max(y_train),tf.reduce_min(y_train))\n",
    "print(x_val.shape,y_val.shape)\n",
    "print(sample[0].shape)\n",
    "print(sample[1].shape)"
   ]
  },
  {
   "cell_type": "code",
   "execution_count": 7,
   "metadata": {},
   "outputs": [],
   "source": [
    "class MyRnn(keras.Model):\n",
    "    def __init__(self,units):\n",
    "        super(MyRnn,self).__init__()\n",
    "        #[b,64]\n",
    "        self.state0 = [tf.zeros([batch_size,units]),tf.zeros([batch_size,units])]\n",
    "        self.state1 = [tf.zeros([batch_size,units]),tf.zeros([batch_size,units])]\n",
    "        #[b,80]=>[b,80,100]\n",
    "        self.embedding = layers.Embedding(input_dim=totals_words,output_dim=embedding_len,input_length=max_review_len)\n",
    "        \n",
    "        #[b,80]=>[b,units]\n",
    "        self.rnn_cell0 = layers.LSTMCell(units,dropout=0.5)\n",
    "        self.rnn_cell1 = layers.LSTMCell(units,dropout=0.5)\n",
    "        #[b,units]=>[b,1]\n",
    "        self.fc = layers.Dense(1)\n",
    "        \n",
    "    def call(self,inputs,training=None):\n",
    "        #x = [b,80]\n",
    "        x = inputs\n",
    "        #[b,80]=>[b,80,100]\n",
    "        x = self.embedding(x)\n",
    "        #[b,80,100]=>[b,100]\n",
    "        state0 = self.state0\n",
    "        state1 = self.state1\n",
    "        #[b,80]=>[b,64]\n",
    "        #80轮过后，out为[b,64]，收集了前80个语境的所有信息\n",
    "        for word in tf.unstack(x,axis=1):\n",
    "            out0,state0 = self.rnn_cell0(word,state0,training)\n",
    "            out1,state1 = self.rnn_cell1(out0,state1,training)\n",
    "        #[b,64]=>[b,1]\n",
    "        out = self.fc(out1)\n",
    "        #p(y is positive|x)\n",
    "        pred = tf.sigmoid(out)\n",
    "        \n",
    "        return pred"
   ]
  },
  {
   "cell_type": "code",
   "execution_count": 8,
   "metadata": {},
   "outputs": [],
   "source": [
    "def main():\n",
    "    units = 64\n",
    "    model = MyRnn(units)\n",
    "    model.compile(optimizer=keras.optimizers.Adam(0.0001),loss=tf.losses.BinaryCrossentropy(),metrics=['accuracy'])\n",
    "    model.fit(db_train,epochs=10,validation_data=db_val)"
   ]
  },
  {
   "cell_type": "code",
   "execution_count": 9,
   "metadata": {},
   "outputs": [
    {
     "name": "stdout",
     "output_type": "stream",
     "text": [
      "Epoch 1/10\n",
      "195/195 [==============================] - 180s 925ms/step - loss: 0.6872 - accuracy: 0.5372 - val_loss: 0.6006 - val_accuracy: 0.6852\n",
      "Epoch 2/10\n",
      "195/195 [==============================] - 54s 276ms/step - loss: 0.5104 - accuracy: 0.7215 - val_loss: 0.4313 - val_accuracy: 0.8003\n",
      "Epoch 3/10\n",
      "195/195 [==============================] - 54s 276ms/step - loss: 0.4130 - accuracy: 0.8086 - val_loss: 0.3932 - val_accuracy: 0.8226\n",
      "Epoch 4/10\n",
      "195/195 [==============================] - 54s 277ms/step - loss: 0.3650 - accuracy: 0.8426 - val_loss: 0.3776 - val_accuracy: 0.8297\n",
      "Epoch 5/10\n",
      "195/195 [==============================] - 54s 278ms/step - loss: 0.3326 - accuracy: 0.8612 - val_loss: 0.3710 - val_accuracy: 0.8343\n",
      "Epoch 6/10\n",
      "195/195 [==============================] - 54s 278ms/step - loss: 0.3085 - accuracy: 0.8739 - val_loss: 0.3713 - val_accuracy: 0.8361\n",
      "Epoch 7/10\n",
      "195/195 [==============================] - 54s 279ms/step - loss: 0.2945 - accuracy: 0.8844 - val_loss: 0.3693 - val_accuracy: 0.8359\n",
      "Epoch 8/10\n",
      "195/195 [==============================] - 54s 278ms/step - loss: 0.2771 - accuracy: 0.8896 - val_loss: 0.3760 - val_accuracy: 0.8334\n",
      "Epoch 9/10\n",
      "195/195 [==============================] - 122s 626ms/step - loss: 0.2608 - accuracy: 0.9009 - val_loss: 0.3836 - val_accuracy: 0.8328\n",
      "Epoch 10/10\n",
      "195/195 [==============================] - 168s 861ms/step - loss: 0.2505 - accuracy: 0.9004 - val_loss: 0.3777 - val_accuracy: 0.8341\n"
     ]
    }
   ],
   "source": [
    "main()"
   ]
  },
  {
   "cell_type": "code",
   "execution_count": null,
   "metadata": {},
   "outputs": [],
   "source": []
  }
 ],
 "metadata": {
  "kernelspec": {
   "display_name": "Python 3",
   "language": "python",
   "name": "python3"
  },
  "language_info": {
   "codemirror_mode": {
    "name": "ipython",
    "version": 3
   },
   "file_extension": ".py",
   "mimetype": "text/x-python",
   "name": "python",
   "nbconvert_exporter": "python",
   "pygments_lexer": "ipython3",
   "version": "3.7.3"
  }
 },
 "nbformat": 4,
 "nbformat_minor": 2
}
