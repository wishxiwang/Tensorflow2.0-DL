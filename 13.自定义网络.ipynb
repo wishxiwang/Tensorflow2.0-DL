{
 "cells": [
  {
   "cell_type": "code",
   "execution_count": 1,
   "metadata": {},
   "outputs": [],
   "source": [
    "import tensorflow as tf\n",
    "from tensorflow import keras"
   ]
  },
  {
   "cell_type": "code",
   "execution_count": 2,
   "metadata": {},
   "outputs": [],
   "source": [
    "#自定义层结构\n",
    "class MyDense(keras.layers.Layer):\n",
    "    def __init__(self,in_dim,out_dim):\n",
    "        super(MyDense,self).__init__()\n",
    "        self.kernel = self.add_variable('w',[in_dim,out_dim])\n",
    "        self.bias = self.add_variable('b',[out_dim])\n",
    "    \n",
    "    def call(self,input,training=None):\n",
    "        out = input@self.kernel+self.bias\n",
    "        return out"
   ]
  },
  {
   "cell_type": "code",
   "execution_count": 3,
   "metadata": {},
   "outputs": [],
   "source": [
    "#自定义网络\n",
    "class MyModel(keras.Model):\n",
    "\n",
    "    def __init__(self):\n",
    "        super(MyModel, self).__init__()\n",
    "\n",
    "        self.fc1 = MyDense(784, 256)\n",
    "        self.fc2 = MyDense(256, 128)\n",
    "        self.fc3 = MyDense(128, 64)\n",
    "        self.fc4 = MyDense(64, 32)\n",
    "        self.fc5 = MyDense(32, 10)\n",
    "\n",
    "    def call(self, inputs, training=None):\n",
    "\n",
    "        x = self.fc1(inputs)\n",
    "        x = tf.nn.relu(x)\n",
    "        x = self.fc2(x)\n",
    "        x = tf.nn.relu(x)\n",
    "        x = self.fc3(x)\n",
    "        x = tf.nn.relu(x)\n",
    "        x = self.fc4(x)\n",
    "        x = tf.nn.relu(x)\n",
    "        x = self.fc5(x)\n",
    "        x = tf.nn.softmax(x)\n",
    "\n",
    "        return x"
   ]
  },
  {
   "cell_type": "code",
   "execution_count": 4,
   "metadata": {},
   "outputs": [
    {
     "name": "stdout",
     "output_type": "stream",
     "text": [
      "训练集维度： (60000, 28, 28) (60000,)\n",
      "数据范围: 0 255\n",
      "类别： {0, 1, 2, 3, 4, 5, 6, 7, 8, 9}\n",
      "类别数： 10\n",
      "验证集维度： (10000, 28, 28) (10000,)\n"
     ]
    }
   ],
   "source": [
    "#载入数据\n",
    "(x_train,y_train),(x_val,y_val)=keras.datasets.fashion_mnist.load_data()\n",
    "print('训练集维度：',x_train.shape,y_train.shape)\n",
    "print('数据范围:',x_train.min(),x_train.max())\n",
    "print('类别：',set(y_train))\n",
    "print('类别数：',len(set(y_train)))\n",
    "print('验证集维度：',x_val.shape,y_val.shape)"
   ]
  },
  {
   "cell_type": "code",
   "execution_count": 5,
   "metadata": {},
   "outputs": [],
   "source": [
    "#预处理数据\n",
    "def preprocess(x,y):\n",
    "    x = tf.cast(x,dtype=tf.float32)/255\n",
    "    x = tf.reshape(x,[-1,784])\n",
    "    y = tf.cast(y,dtype=tf.int32)\n",
    "    y = tf.one_hot(y,depth=10)\n",
    "    return x,y"
   ]
  },
  {
   "cell_type": "code",
   "execution_count": 6,
   "metadata": {},
   "outputs": [
    {
     "name": "stdout",
     "output_type": "stream",
     "text": [
      "每次喂入的样本量: (200, 784)\n",
      "每次喂入的标签量: (200, 10)\n"
     ]
    }
   ],
   "source": [
    "#准备每次喂入网络的数据batch\n",
    "#每个batch200组数据，用preprocess处理这些数据，随机打乱（打乱时内存分配空间为10000）\n",
    "db_train = tf.data.Dataset.from_tensor_slices((x_train,y_train)).batch(200).map(preprocess).shuffle(10000)\n",
    "db_val = tf.data.Dataset.from_tensor_slices((x_val,y_val)).batch(200).map(preprocess).shuffle(10000)\n",
    "\n",
    "db_iter = iter(db_train)\n",
    "sample = next(db_iter)\n",
    "print('每次喂入的样本量:',sample[0].shape)\n",
    "print('每次喂入的标签量:',sample[1].shape)"
   ]
  },
  {
   "cell_type": "code",
   "execution_count": 7,
   "metadata": {},
   "outputs": [
    {
     "name": "stdout",
     "output_type": "stream",
     "text": [
      "Epoch 1/10\n",
      "300/300 [==============================] - 4s 12ms/step - loss: 0.6225 - accuracy: 0.6722 - val_loss: 0.5790 - val_accuracy: 0.8100\n",
      "Epoch 2/10\n",
      "300/300 [==============================] - 2s 8ms/step - loss: 0.4065 - accuracy: 0.8505 - val_loss: 0.5428 - val_accuracy: 0.8100\n",
      "Epoch 3/10\n",
      "300/300 [==============================] - 2s 8ms/step - loss: 0.3712 - accuracy: 0.8660 - val_loss: 0.5314 - val_accuracy: 0.8075\n",
      "Epoch 4/10\n",
      "300/300 [==============================] - 2s 8ms/step - loss: 0.3471 - accuracy: 0.8770 - val_loss: 0.5418 - val_accuracy: 0.8275\n",
      "Epoch 5/10\n",
      "300/300 [==============================] - 3s 8ms/step - loss: 0.3366 - accuracy: 0.8795 - val_loss: 0.5254 - val_accuracy: 0.8400\n",
      "Epoch 6/10\n",
      "300/300 [==============================] - 3s 9ms/step - loss: 0.3270 - accuracy: 0.8850 - val_loss: 0.5368 - val_accuracy: 0.8400\n",
      "Epoch 7/10\n",
      "300/300 [==============================] - 3s 9ms/step - loss: 0.3197 - accuracy: 0.8836 - val_loss: 0.5108 - val_accuracy: 0.8375\n",
      "Epoch 8/10\n",
      "300/300 [==============================] - 3s 9ms/step - loss: 0.3098 - accuracy: 0.8921 - val_loss: 0.5085 - val_accuracy: 0.8425\n",
      "Epoch 9/10\n",
      "300/300 [==============================] - 3s 9ms/step - loss: 0.2952 - accuracy: 0.8957 - val_loss: 0.5064 - val_accuracy: 0.8500\n",
      "Epoch 10/10\n",
      "300/300 [==============================] - 3s 8ms/step - loss: 0.2936 - accuracy: 0.8950 - val_loss: 0.4964 - val_accuracy: 0.8425\n"
     ]
    },
    {
     "data": {
      "text/plain": [
       "<tensorflow.python.keras.callbacks.History at 0x175ac800828>"
      ]
     },
     "execution_count": 7,
     "metadata": {},
     "output_type": "execute_result"
    }
   ],
   "source": [
    "#实例化网络\n",
    "model = MyModel()\n",
    "model.compile(optimizer=tf.optimizers.Adam(learning_rate=0.01),loss=tf.losses.categorical_crossentropy,metrics=['accuracy'])\n",
    "model.fit(db_train,epochs=10,validation_data=db_val,validation_steps=2)"
   ]
  },
  {
   "cell_type": "code",
   "execution_count": 8,
   "metadata": {},
   "outputs": [
    {
     "name": "stdout",
     "output_type": "stream",
     "text": [
      "Epoch 1/10\n",
      "300/300 [==============================] - 3s 8ms/step - loss: 0.2728 - accuracy: 0.8997 - val_loss: 0.4806 - val_accuracy: 0.8475\n",
      "Epoch 2/10\n",
      "300/300 [==============================] - 2s 6ms/step - loss: 0.2613 - accuracy: 0.9036 - val_loss: 0.4793 - val_accuracy: 0.8500\n",
      "Epoch 3/10\n",
      "300/300 [==============================] - 2s 7ms/step - loss: 0.2563 - accuracy: 0.9048 - val_loss: 0.4796 - val_accuracy: 0.8500\n",
      "Epoch 4/10\n",
      "300/300 [==============================] - 2s 7ms/step - loss: 0.2531 - accuracy: 0.9056 - val_loss: 0.4793 - val_accuracy: 0.8500\n",
      "Epoch 5/10\n",
      "300/300 [==============================] - 2s 7ms/step - loss: 0.2507 - accuracy: 0.9067 - val_loss: 0.4786 - val_accuracy: 0.8550\n",
      "Epoch 6/10\n",
      "300/300 [==============================] - 2s 7ms/step - loss: 0.2488 - accuracy: 0.9072 - val_loss: 0.4777 - val_accuracy: 0.8550\n",
      "Epoch 7/10\n",
      "300/300 [==============================] - 2s 7ms/step - loss: 0.2473 - accuracy: 0.9080 - val_loss: 0.4767 - val_accuracy: 0.8575\n",
      "Epoch 8/10\n",
      "300/300 [==============================] - 2s 7ms/step - loss: 0.2460 - accuracy: 0.9084 - val_loss: 0.4759 - val_accuracy: 0.8575\n",
      "Epoch 9/10\n",
      "300/300 [==============================] - 2s 7ms/step - loss: 0.2448 - accuracy: 0.9086 - val_loss: 0.4752 - val_accuracy: 0.8600\n",
      "Epoch 10/10\n",
      "300/300 [==============================] - 2s 7ms/step - loss: 0.2438 - accuracy: 0.9090 - val_loss: 0.4747 - val_accuracy: 0.8600\n"
     ]
    },
    {
     "data": {
      "text/plain": [
       "<tensorflow.python.keras.callbacks.History at 0x17668dc8e10>"
      ]
     },
     "execution_count": 8,
     "metadata": {},
     "output_type": "execute_result"
    }
   ],
   "source": [
    "model.compile(optimizer=tf.optimizers.SGD(learning_rate=0.01),loss=tf.losses.categorical_crossentropy,metrics=['accuracy'])\n",
    "model.fit(db_train,epochs=10,validation_data=db_val,validation_steps=2)"
   ]
  },
  {
   "cell_type": "code",
   "execution_count": 9,
   "metadata": {},
   "outputs": [
    {
     "name": "stdout",
     "output_type": "stream",
     "text": [
      "50/50 [==============================] - 0s 5ms/step - loss: 0.3505 - accuracy: 0.8814\n"
     ]
    },
    {
     "data": {
      "text/plain": [
       "[0.35045804679393766, 0.8814]"
      ]
     },
     "execution_count": 9,
     "metadata": {},
     "output_type": "execute_result"
    }
   ],
   "source": [
    "model.evaluate(db_val)"
   ]
  },
  {
   "cell_type": "code",
   "execution_count": null,
   "metadata": {},
   "outputs": [],
   "source": []
  }
 ],
 "metadata": {
  "kernelspec": {
   "display_name": "Python 3",
   "language": "python",
   "name": "python3"
  },
  "language_info": {
   "codemirror_mode": {
    "name": "ipython",
    "version": 3
   },
   "file_extension": ".py",
   "mimetype": "text/x-python",
   "name": "python",
   "nbconvert_exporter": "python",
   "pygments_lexer": "ipython3",
   "version": "3.7.3"
  }
 },
 "nbformat": 4,
 "nbformat_minor": 2
}
