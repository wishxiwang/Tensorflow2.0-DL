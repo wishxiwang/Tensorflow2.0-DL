{
 "cells": [
  {
   "cell_type": "code",
   "execution_count": 2,
   "metadata": {},
   "outputs": [
    {
     "name": "stdout",
     "output_type": "stream",
     "text": [
      "2.0.0-alpha0\n"
     ]
    }
   ],
   "source": [
    "import tensorflow as tf\n",
    "print(tf.__version__)"
   ]
  },
  {
   "cell_type": "code",
   "execution_count": 4,
   "metadata": {},
   "outputs": [
    {
     "name": "stdout",
     "output_type": "stream",
     "text": [
      "da: tf.Tensor([4.], shape=(1,), dtype=float32)\n",
      "db: tf.Tensor([1.], shape=(1,), dtype=float32)\n",
      "dc: tf.Tensor([1.], shape=(1,), dtype=float32)\n"
     ]
    }
   ],
   "source": [
    "#y=a^2*x+b*x+c,分别对a,b,c求导\n",
    "#求中,x=1,a=2,b=3,c=4\n",
    "#分别求导的结果应该为da=4,db=1,dc=1\n",
    "x = tf.constant([1.0])\n",
    "a = tf.constant([2.0])\n",
    "b = tf.constant([3.0])\n",
    "c = tf.constant([4.0])\n",
    "\n",
    "with tf.GradientTape() as tape:\n",
    "    tape.watch([a,b,c])\n",
    "    y = a**2*x+b*x+c\n",
    "\n",
    "[da,db,dc]=tape.gradient(y,[a,b,c])\n",
    "print('da:',da)\n",
    "print('db:',db)\n",
    "print('dc:',dc)"
   ]
  },
  {
   "cell_type": "code",
   "execution_count": 7,
   "metadata": {},
   "outputs": [
    {
     "name": "stdout",
     "output_type": "stream",
     "text": [
      "[<tf.Tensor: id=98, shape=(2, 2), dtype=float32, numpy=\n",
      "array([[4. , 5.5],\n",
      "       [4. , 5.5]], dtype=float32)>]\n"
     ]
    }
   ],
   "source": [
    "x = tf.constant([[1.,3.],[2.5,3]])\n",
    "a = tf.constant([[10.,2.],[2.,3.]])\n",
    "with tf.GradientTape() as tape:\n",
    "    tape.watch([a])\n",
    "    y = a@x\n",
    "da = tape.gradient(y,[a])\n",
    "print(da)"
   ]
  }
 ],
 "metadata": {
  "kernelspec": {
   "display_name": "Python 3",
   "language": "python",
   "name": "python3"
  },
  "language_info": {
   "codemirror_mode": {
    "name": "ipython",
    "version": 3
   },
   "file_extension": ".py",
   "mimetype": "text/x-python",
   "name": "python",
   "nbconvert_exporter": "python",
   "pygments_lexer": "ipython3",
   "version": "3.6.4"
  }
 },
 "nbformat": 4,
 "nbformat_minor": 2
}
