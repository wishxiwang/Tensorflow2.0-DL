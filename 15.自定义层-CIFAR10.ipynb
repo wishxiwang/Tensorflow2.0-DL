{
 "cells": [
  {
   "cell_type": "code",
   "execution_count": 1,
   "metadata": {},
   "outputs": [],
   "source": [
    "import tensorflow as tf\n",
    "from tensorflow import keras"
   ]
  },
  {
   "cell_type": "code",
   "execution_count": 2,
   "metadata": {},
   "outputs": [
    {
     "name": "stdout",
     "output_type": "stream",
     "text": [
      "训练样本维度： (50000, 32, 32, 3)\n",
      "样本最小值： 0\n",
      "样本最大值： 255\n",
      "标签维度： (50000, 1)\n",
      "标签处理后维度： (50000,)\n"
     ]
    }
   ],
   "source": [
    "#载入并分析数据\n",
    "(x_train,y_train),(x_val,y_val)=keras.datasets.cifar10.load_data()\n",
    "print('训练样本维度：',x_train.shape)\n",
    "print('样本最小值：',x_train.min())\n",
    "print('样本最大值：',x_train.max())\n",
    "print('标签维度：',y_train.shape)\n",
    "print('标签处理后维度：',tf.squeeze(y_train).shape)"
   ]
  },
  {
   "cell_type": "code",
   "execution_count": 13,
   "metadata": {},
   "outputs": [],
   "source": [
    "#预处理\n",
    "def preprocess(x,y):\n",
    "    x = tf.cast(x,dtype=tf.float32)/255.-0.5\n",
    "    x = tf.reshape(x,[-1,32*32*3])\n",
    "    y = tf.squeeze(y)\n",
    "    y = tf.cast(y,dtype=tf.int32)\n",
    "    y = tf.one_hot(y,depth=10)\n",
    "    return x,y"
   ]
  },
  {
   "cell_type": "code",
   "execution_count": 14,
   "metadata": {},
   "outputs": [
    {
     "name": "stdout",
     "output_type": "stream",
     "text": [
      "(200, 3072)\n",
      "(200, 10)\n"
     ]
    }
   ],
   "source": [
    "#准备喂入网络的数据batch\n",
    "db_train = tf.data.Dataset.from_tensor_slices((x_train,y_train)).batch(200).map(preprocess).shuffle(10000)\n",
    "db_val = tf.data.Dataset.from_tensor_slices((x_val,y_val)).batch(200).map(preprocess).shuffle(10000)\n",
    "\n",
    "#测试batch\n",
    "db_iter = iter(db_train)\n",
    "sample = next(db_iter)\n",
    "print(sample[0].shape)\n",
    "print(sample[1].shape)"
   ]
  },
  {
   "cell_type": "code",
   "execution_count": 15,
   "metadata": {},
   "outputs": [],
   "source": [
    "#自定义层\n",
    "class MyDense(keras.layers.Layer):\n",
    "    def __init__(self,in_dim,out_dim):\n",
    "        super(MyDense,self).__init__()\n",
    "        self.kernel = self.add_variable('w',[in_dim,out_dim])\n",
    "        self.bias = self.add_variable('b',[out_dim])\n",
    "        \n",
    "    def call(self,inputs):\n",
    "        x = inputs@self.kernel+self.bias\n",
    "        return x"
   ]
  },
  {
   "cell_type": "code",
   "execution_count": 16,
   "metadata": {},
   "outputs": [],
   "source": [
    "#自定义网络\n",
    "class MyModel(keras.Model):\n",
    "    def __init__(self):\n",
    "        super(MyModel,self).__init__()\n",
    "        self.l1 = MyDense(32*32*3,256)\n",
    "        self.l2 = MyDense(256,128)\n",
    "        self.l3 = MyDense(128,64)\n",
    "        self.l4 = MyDense(64,32)\n",
    "        self.l5 = MyDense(32,10)\n",
    "        \n",
    "    def call(self,inputs):\n",
    "        out = self.l1(inputs)\n",
    "        out = tf.nn.relu(out)\n",
    "        out = self.l2(out)\n",
    "        out = tf.nn.relu(out)\n",
    "        out = self.l3(out)\n",
    "        out = tf.nn.relu(out)\n",
    "        out = self.l4(out)\n",
    "        out = tf.nn.relu(out)\n",
    "        out = self.l5(out)\n",
    "        out = tf.nn.softmax(out)\n",
    "        return out"
   ]
  },
  {
   "cell_type": "code",
   "execution_count": 17,
   "metadata": {},
   "outputs": [],
   "source": [
    "my_model = MyModel()"
   ]
  },
  {
   "cell_type": "code",
   "execution_count": 19,
   "metadata": {},
   "outputs": [
    {
     "name": "stdout",
     "output_type": "stream",
     "text": [
      "Epoch 1/30\n",
      "250/250 [==============================] - 2s 9ms/step - loss: 1.0066 - accuracy: 0.6441\n",
      "Epoch 2/30\n",
      "250/250 [==============================] - 2s 10ms/step - loss: 0.9653 - accuracy: 0.6584 - val_loss: 1.4622 - val_accuracy: 0.5349\n",
      "Epoch 3/30\n",
      "250/250 [==============================] - 2s 8ms/step - loss: 0.9314 - accuracy: 0.6724\n",
      "Epoch 4/30\n",
      "250/250 [==============================] - 2s 9ms/step - loss: 0.8913 - accuracy: 0.6856 - val_loss: 1.4842 - val_accuracy: 0.5314\n",
      "Epoch 5/30\n",
      "250/250 [==============================] - 2s 8ms/step - loss: 0.8520 - accuracy: 0.7016\n",
      "Epoch 6/30\n",
      "250/250 [==============================] - 2s 9ms/step - loss: 0.8268 - accuracy: 0.7112 - val_loss: 1.6752 - val_accuracy: 0.4927\n",
      "Epoch 7/30\n",
      "250/250 [==============================] - 2s 8ms/step - loss: 0.7996 - accuracy: 0.7200\n",
      "Epoch 8/30\n",
      "250/250 [==============================] - 2s 9ms/step - loss: 0.7522 - accuracy: 0.7372 - val_loss: 1.6852 - val_accuracy: 0.5059\n",
      "Epoch 9/30\n",
      "250/250 [==============================] - 2s 8ms/step - loss: 0.7329 - accuracy: 0.7444\n",
      "Epoch 10/30\n",
      "250/250 [==============================] - 2s 10ms/step - loss: 0.7026 - accuracy: 0.7552 - val_loss: 1.7319 - val_accuracy: 0.5092\n",
      "Epoch 11/30\n",
      "250/250 [==============================] - 2s 8ms/step - loss: 0.6631 - accuracy: 0.7700\n",
      "Epoch 12/30\n",
      "250/250 [==============================] - 2s 10ms/step - loss: 0.6467 - accuracy: 0.7768 - val_loss: 1.8136 - val_accuracy: 0.5099\n",
      "Epoch 13/30\n",
      "250/250 [==============================] - 2s 8ms/step - loss: 0.6195 - accuracy: 0.7842\n",
      "Epoch 14/30\n",
      "250/250 [==============================] - 2s 10ms/step - loss: 0.6001 - accuracy: 0.7901 - val_loss: 1.9007 - val_accuracy: 0.5084\n",
      "Epoch 15/30\n",
      "250/250 [==============================] - 2s 8ms/step - loss: 0.5842 - accuracy: 0.7960\n",
      "Epoch 16/30\n",
      "250/250 [==============================] - 2s 9ms/step - loss: 0.5521 - accuracy: 0.8080 - val_loss: 1.8998 - val_accuracy: 0.5194\n",
      "Epoch 17/30\n",
      "250/250 [==============================] - 2s 8ms/step - loss: 0.5155 - accuracy: 0.8216\n",
      "Epoch 18/30\n",
      "250/250 [==============================] - 2s 9ms/step - loss: 0.5111 - accuracy: 0.8210 - val_loss: 2.0966 - val_accuracy: 0.5092\n",
      "Epoch 19/30\n",
      "250/250 [==============================] - 2s 8ms/step - loss: 0.4896 - accuracy: 0.8285\n",
      "Epoch 20/30\n",
      "250/250 [==============================] - 2s 9ms/step - loss: 0.4762 - accuracy: 0.8336 - val_loss: 2.1589 - val_accuracy: 0.5149\n",
      "Epoch 21/30\n",
      "250/250 [==============================] - 2s 8ms/step - loss: 0.4503 - accuracy: 0.8432\n",
      "Epoch 22/30\n",
      "250/250 [==============================] - 2s 10ms/step - loss: 0.4422 - accuracy: 0.8465 - val_loss: 2.2805 - val_accuracy: 0.5070\n",
      "Epoch 23/30\n",
      "250/250 [==============================] - 2s 8ms/step - loss: 0.4114 - accuracy: 0.8587\n",
      "Epoch 24/30\n",
      "250/250 [==============================] - 2s 9ms/step - loss: 0.4183 - accuracy: 0.8567 - val_loss: 2.4055 - val_accuracy: 0.5078\n",
      "Epoch 25/30\n",
      "250/250 [==============================] - 2s 8ms/step - loss: 0.3926 - accuracy: 0.8623\n",
      "Epoch 26/30\n",
      "250/250 [==============================] - 2s 10ms/step - loss: 0.3682 - accuracy: 0.8725 - val_loss: 2.4546 - val_accuracy: 0.5025\n",
      "Epoch 27/30\n",
      "250/250 [==============================] - 2s 8ms/step - loss: 0.3474 - accuracy: 0.8796\n",
      "Epoch 28/30\n",
      "250/250 [==============================] - 2s 10ms/step - loss: 0.3517 - accuracy: 0.8758 - val_loss: 2.6229 - val_accuracy: 0.5004\n",
      "Epoch 29/30\n",
      "250/250 [==============================] - 2s 8ms/step - loss: 0.3380 - accuracy: 0.8826\n",
      "Epoch 30/30\n",
      "250/250 [==============================] - 2s 9ms/step - loss: 0.3268 - accuracy: 0.8861 - val_loss: 2.8110 - val_accuracy: 0.5028\n"
     ]
    },
    {
     "data": {
      "text/plain": [
       "<tensorflow.python.keras.callbacks.History at 0x2634e92fef0>"
      ]
     },
     "execution_count": 19,
     "metadata": {},
     "output_type": "execute_result"
    }
   ],
   "source": [
    "my_model.compile(optimizer=tf.optimizers.SGD(learning_rate=0.1),loss = tf.losses.categorical_crossentropy,metrics=['accuracy'])\n",
    "my_model.fit(db_train,epochs=30,validation_data=db_val,validation_freq=2)"
   ]
  },
  {
   "cell_type": "code",
   "execution_count": 20,
   "metadata": {},
   "outputs": [
    {
     "name": "stdout",
     "output_type": "stream",
     "text": [
      "50/50 [==============================] - 0s 6ms/step - loss: 2.8110 - accuracy: 0.5028\n"
     ]
    },
    {
     "data": {
      "text/plain": [
       "[2.810979652404785, 0.5028]"
      ]
     },
     "execution_count": 20,
     "metadata": {},
     "output_type": "execute_result"
    }
   ],
   "source": [
    "my_model.evaluate(db_val)#过拟合比较严正"
   ]
  },
  {
   "cell_type": "code",
   "execution_count": null,
   "metadata": {},
   "outputs": [],
   "source": []
  }
 ],
 "metadata": {
  "kernelspec": {
   "display_name": "Python 3",
   "language": "python",
   "name": "python3"
  },
  "language_info": {
   "codemirror_mode": {
    "name": "ipython",
    "version": 3
   },
   "file_extension": ".py",
   "mimetype": "text/x-python",
   "name": "python",
   "nbconvert_exporter": "python",
   "pygments_lexer": "ipython3",
   "version": "3.7.3"
  }
 },
 "nbformat": 4,
 "nbformat_minor": 2
}
