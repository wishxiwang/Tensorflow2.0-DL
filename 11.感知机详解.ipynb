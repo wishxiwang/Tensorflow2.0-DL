{
 "cells": [
  {
   "cell_type": "markdown",
   "metadata": {},
   "source": [
    "# 1.单层单输出感知机"
   ]
  },
  {
   "cell_type": "code",
   "execution_count": 1,
   "metadata": {},
   "outputs": [],
   "source": [
    "import tensorflow as tf\n",
    "from tensorflow import keras"
   ]
  },
  {
   "cell_type": "code",
   "execution_count": 10,
   "metadata": {},
   "outputs": [
    {
     "name": "stdout",
     "output_type": "stream",
     "text": [
      "tf.Tensor(\n",
      "[[ 0.0075632 ]\n",
      " [-0.199754  ]\n",
      " [ 0.07216299]], shape=(3, 1), dtype=float32)\n",
      "tf.Tensor([-0.10743831], shape=(1,), dtype=float32)\n"
     ]
    }
   ],
   "source": [
    "x = tf.random.normal([1,3])\n",
    "w = tf.ones([3,1])\n",
    "b = tf.ones([1])\n",
    "y = tf.constant([1])\n",
    "\n",
    "with tf.GradientTape() as tape:\n",
    "    tape.watch([w,b])\n",
    "    y_pred = tf.nn.sigmoid(x@w+b)\n",
    "    loss = tf.losses.binary_crossentropy(y,y_pred)\n",
    "grads = tape.gradient(loss,[w,b])\n",
    "print(grads[0])\n",
    "print(grads[1])"
   ]
  },
  {
   "cell_type": "markdown",
   "metadata": {},
   "source": [
    "# 2.单层多输出感知机"
   ]
  },
  {
   "cell_type": "code",
   "execution_count": 19,
   "metadata": {},
   "outputs": [
    {
     "name": "stdout",
     "output_type": "stream",
     "text": [
      "tf.Tensor(\n",
      "[[ 0.8828447  -0.9079041   0.0250594 ]\n",
      " [ 0.6767018  -0.59937453 -0.07732727]\n",
      " [ 0.5486783  -0.3817458  -0.16693251]], shape=(3, 3), dtype=float32)\n",
      "tf.Tensor([-0.33333334  0.6666667  -0.33333334], shape=(3,), dtype=float32)\n"
     ]
    }
   ],
   "source": [
    "x = tf.random.normal([2,3])\n",
    "w = tf.ones([3,3])\n",
    "b = tf.ones([3])\n",
    "y = tf.constant([2,0])\n",
    "y = tf.one_hot(y,depth=3)\n",
    "with tf.GradientTape() as tape:\n",
    "    tape.watch([w,b])\n",
    "    y_pred = tf.nn.softmax(x@w+b,axis=1)\n",
    "    loss = tf.losses.categorical_crossentropy(y,y_pred)\n",
    "grads = tape.gradient(loss,[w,b])\n",
    "print(grads[0])\n",
    "print(grads[1])"
   ]
  },
  {
   "cell_type": "markdown",
   "metadata": {},
   "source": [
    "# 3.多层感知机"
   ]
  },
  {
   "cell_type": "code",
   "execution_count": 20,
   "metadata": {},
   "outputs": [
    {
     "name": "stdout",
     "output_type": "stream",
     "text": [
      "tf.Tensor(3.0, shape=(), dtype=float32)\n",
      "tf.Tensor(1.0, shape=(), dtype=float32)\n",
      "tf.Tensor(3.0, shape=(), dtype=float32)\n"
     ]
    }
   ],
   "source": [
    "x = tf.constant(1.)\n",
    "w1 = tf.constant(2.)\n",
    "b1 = tf.constant(1.)\n",
    "w2 = tf.constant(3.)\n",
    "b2 = tf.constant(1.)\n",
    "\n",
    "with tf.GradientTape(persistent=True) as tape:\n",
    "    tape.watch([w1, b1, w2, b2])\n",
    "\n",
    "    y1 = x * w1 + b1\n",
    "    y2 = y1 * w2 + b2\n",
    "\n",
    "dy2_dy1 = tape.gradient(y2, [y1])[0]\n",
    "dy1_dw1 = tape.gradient(y1, [w1])[0]\n",
    "dy2_dw1 = tape.gradient(y2, [w1])[0]\n",
    "print(dy2_dy1)\n",
    "print(dy1_dw1)\n",
    "print(dy2_dw1)"
   ]
  },
  {
   "cell_type": "code",
   "execution_count": null,
   "metadata": {},
   "outputs": [],
   "source": []
  }
 ],
 "metadata": {
  "kernelspec": {
   "display_name": "Python 3",
   "language": "python",
   "name": "python3"
  },
  "language_info": {
   "codemirror_mode": {
    "name": "ipython",
    "version": 3
   },
   "file_extension": ".py",
   "mimetype": "text/x-python",
   "name": "python",
   "nbconvert_exporter": "python",
   "pygments_lexer": "ipython3",
   "version": "3.7.3"
  }
 },
 "nbformat": 4,
 "nbformat_minor": 2
}
